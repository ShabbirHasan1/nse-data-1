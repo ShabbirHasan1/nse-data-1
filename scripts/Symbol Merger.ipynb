{
 "cells": [
  {
   "cell_type": "code",
   "execution_count": 8,
   "id": "e4278159-ee7f-4b13-bfec-62ac1f6a4185",
   "metadata": {},
   "outputs": [],
   "source": [
    "import pandas as pd\n",
    "from os import listdir\n",
    "from os.path import isfile, join"
   ]
  },
  {
   "cell_type": "code",
   "execution_count": 12,
   "id": "dea0a79e-e92c-4bbf-88f9-26a39ea35e2d",
   "metadata": {},
   "outputs": [],
   "source": [
    "onlyfiles = [f for f in listdir('./data') if isfile(join('./data', f))]"
   ]
  },
  {
   "cell_type": "code",
   "execution_count": 13,
   "id": "88927db4-0d3e-4f70-9cb1-99f14caeb66b",
   "metadata": {},
   "outputs": [
    {
     "name": "stdout",
     "output_type": "stream",
     "text": [
      "['MW-NIFTY-MIDSMALLCAP-400-13-May-2021.csv', 'MW-NIFTY-200-13-May-2021.csv', 'MW-NIFTY-BANK-13-May-2021.csv', 'MW-NIFTY-PHARMA-13-May-2021.csv', 'MW-NIFTY-PSU-BANK-13-May-2021.csv', 'MW-NIFTY-50-13-May-2021.csv', 'MW-NIFTY-AUTO-13-May-2021.csv', 'MW-NIFTY-FMCG-13-May-2021.csv', 'MW-NIFTY-SMALLCAP-250-13-May-2021.csv', 'MW-NIFTY-PRIVATE-BANK-13-May-2021.csv', 'MW-NIFTY-METAL-13-May-2021.csv', 'MW-NIFTY-ENERGY-13-May-2021.csv', 'MW-NIFTY-MIDCAP-150-13-May-2021.csv', 'MW-NIFTY-REALTY-13-May-2021.csv', 'MW-NIFTY-FINANCIAL-SERVICES-25_50-13-May-2021.csv', 'MW-NIFTY-FINANCIAL-SERVICES-13-May-2021.csv', 'MW-NIFTY-IT-13-May-2021.csv', 'MW-NIFTY-NEXT-50-13-May-2021.csv', 'MW-NIFTY-MEDIA-13-May-2021.csv']\n"
     ]
    }
   ],
   "source": [
    "print(onlyfiles)"
   ]
  },
  {
   "cell_type": "code",
   "execution_count": 39,
   "id": "8d35d4bc-6fff-41f5-8ad5-e5ab19c66641",
   "metadata": {},
   "outputs": [],
   "source": [
    "large_df = pd.DataFrame({\"TICKER\":[], \"GROUP\":[]})"
   ]
  },
  {
   "cell_type": "code",
   "execution_count": 40,
   "id": "d4078d80-1abc-4561-86bf-0c4370ea7a1d",
   "metadata": {},
   "outputs": [],
   "source": [
    "for i in onlyfiles:\n",
    "    filename = './data/' + i\n",
    "    temp_df = pd.read_csv(filename)\n",
    "    '''\n",
    "    temp_df = temp_df.drop(columns=['OPEN \\n', 'HIGH \\n', 'LOW \\n', 'PREV. CLOSE \\n', 'LTP \\n',\n",
    "       'CHNG \\n', '%CHNG \\n', 'VOLUME \\n(shares)', 'VALUE ', '52W H \\n',\n",
    "       '52W L \\n', '365 D % CHNG \\n 11-May-2020',\n",
    "       '30 D % CHNG \\n 09-Apr-2021'])\n",
    "    '''\n",
    "    temp_df = temp_df[['SYMBOL \\n']]\n",
    "    temp_df = temp_df.rename(columns={\"SYMBOL \\n\": \"TICKER\"})\n",
    "    group = temp_df.iloc[0][\"TICKER\"]\n",
    "    temp_df = temp_df.drop([0])\n",
    "    temp_df[\"GROUP\"] = [group for i in range(len(temp_df))]\n",
    "    large_df = pd.concat([large_df, temp_df])"
   ]
  },
  {
   "cell_type": "code",
   "execution_count": 41,
   "id": "697ea21d-88ad-45bc-b5a9-27e7bb7fc797",
   "metadata": {},
   "outputs": [
    {
     "data": {
      "text/html": [
       "<div>\n",
       "<style scoped>\n",
       "    .dataframe tbody tr th:only-of-type {\n",
       "        vertical-align: middle;\n",
       "    }\n",
       "\n",
       "    .dataframe tbody tr th {\n",
       "        vertical-align: top;\n",
       "    }\n",
       "\n",
       "    .dataframe thead th {\n",
       "        text-align: right;\n",
       "    }\n",
       "</style>\n",
       "<table border=\"1\" class=\"dataframe\">\n",
       "  <thead>\n",
       "    <tr style=\"text-align: right;\">\n",
       "      <th></th>\n",
       "      <th>TICKER</th>\n",
       "      <th>GROUP</th>\n",
       "    </tr>\n",
       "  </thead>\n",
       "  <tbody>\n",
       "    <tr>\n",
       "      <th>1</th>\n",
       "      <td>VENKEYS</td>\n",
       "      <td>NIFTY MIDSMALLCAP 400</td>\n",
       "    </tr>\n",
       "    <tr>\n",
       "      <th>2</th>\n",
       "      <td>CHAMBLFERT</td>\n",
       "      <td>NIFTY MIDSMALLCAP 400</td>\n",
       "    </tr>\n",
       "    <tr>\n",
       "      <th>3</th>\n",
       "      <td>NFL</td>\n",
       "      <td>NIFTY MIDSMALLCAP 400</td>\n",
       "    </tr>\n",
       "    <tr>\n",
       "      <th>4</th>\n",
       "      <td>IDEA</td>\n",
       "      <td>NIFTY MIDSMALLCAP 400</td>\n",
       "    </tr>\n",
       "    <tr>\n",
       "      <th>5</th>\n",
       "      <td>UCOBANK</td>\n",
       "      <td>NIFTY MIDSMALLCAP 400</td>\n",
       "    </tr>\n",
       "    <tr>\n",
       "      <th>...</th>\n",
       "      <td>...</td>\n",
       "      <td>...</td>\n",
       "    </tr>\n",
       "    <tr>\n",
       "      <th>6</th>\n",
       "      <td>DBCORP</td>\n",
       "      <td>NIFTY MEDIA</td>\n",
       "    </tr>\n",
       "    <tr>\n",
       "      <th>7</th>\n",
       "      <td>TVTODAY</td>\n",
       "      <td>NIFTY MEDIA</td>\n",
       "    </tr>\n",
       "    <tr>\n",
       "      <th>8</th>\n",
       "      <td>DISHTV</td>\n",
       "      <td>NIFTY MEDIA</td>\n",
       "    </tr>\n",
       "    <tr>\n",
       "      <th>9</th>\n",
       "      <td>NETWORK18</td>\n",
       "      <td>NIFTY MEDIA</td>\n",
       "    </tr>\n",
       "    <tr>\n",
       "      <th>10</th>\n",
       "      <td>TV18BRDCST</td>\n",
       "      <td>NIFTY MEDIA</td>\n",
       "    </tr>\n",
       "  </tbody>\n",
       "</table>\n",
       "<p>1270 rows × 2 columns</p>\n",
       "</div>"
      ],
      "text/plain": [
       "        TICKER                  GROUP\n",
       "1      VENKEYS  NIFTY MIDSMALLCAP 400\n",
       "2   CHAMBLFERT  NIFTY MIDSMALLCAP 400\n",
       "3          NFL  NIFTY MIDSMALLCAP 400\n",
       "4         IDEA  NIFTY MIDSMALLCAP 400\n",
       "5      UCOBANK  NIFTY MIDSMALLCAP 400\n",
       "..         ...                    ...\n",
       "6       DBCORP            NIFTY MEDIA\n",
       "7      TVTODAY            NIFTY MEDIA\n",
       "8       DISHTV            NIFTY MEDIA\n",
       "9    NETWORK18            NIFTY MEDIA\n",
       "10  TV18BRDCST            NIFTY MEDIA\n",
       "\n",
       "[1270 rows x 2 columns]"
      ]
     },
     "execution_count": 41,
     "metadata": {},
     "output_type": "execute_result"
    }
   ],
   "source": [
    "large_df"
   ]
  },
  {
   "cell_type": "code",
   "execution_count": 42,
   "id": "eba34a2e-db7e-454d-b1da-d3e428f2b8a2",
   "metadata": {},
   "outputs": [],
   "source": [
    "large_df.to_csv('tickers.csv',index=False)"
   ]
  },
  {
   "cell_type": "markdown",
   "id": "bd2b81a9-d156-4df7-bc05-746f90a68d50",
   "metadata": {},
   "source": [
    "# Test Runs"
   ]
  },
  {
   "cell_type": "code",
   "execution_count": 16,
   "id": "c5297a8b-b751-469f-8870-e8d39149a34f",
   "metadata": {},
   "outputs": [],
   "source": [
    "test_df = pd.read_csv('./data/MW-NIFTY-MIDSMALLCAP-400-13-May-2021.csv')"
   ]
  },
  {
   "cell_type": "code",
   "execution_count": 23,
   "id": "8211a098-5ded-490a-9c49-22132154e8a3",
   "metadata": {},
   "outputs": [],
   "source": [
    "test_df = test_df.drop(columns=['OPEN \\n', 'HIGH \\n', 'LOW \\n', 'PREV. CLOSE \\n', 'LTP \\n',\n",
    "       'CHNG \\n', '%CHNG \\n', 'VOLUME \\n(shares)', 'VALUE ', '52W H \\n',\n",
    "       '52W L \\n', '365 D % CHNG \\n 11-May-2020',\n",
    "       '30 D % CHNG \\n 09-Apr-2021'])"
   ]
  },
  {
   "cell_type": "code",
   "execution_count": 28,
   "id": "d707682d-9b4f-442f-a323-f0f084180e7d",
   "metadata": {},
   "outputs": [],
   "source": [
    "test_df = test_df.rename(columns={\"SYMBOL \\n\":\"TICKER\"})"
   ]
  },
  {
   "cell_type": "code",
   "execution_count": 31,
   "id": "9a314b11-4be2-41ce-8c6a-054fd6fa3caf",
   "metadata": {},
   "outputs": [],
   "source": [
    "group = test_df.iloc[0][\"TICKER\"]"
   ]
  },
  {
   "cell_type": "code",
   "execution_count": 32,
   "id": "187f94eb-653a-4dbb-aabd-982eecefdfd4",
   "metadata": {},
   "outputs": [
    {
     "data": {
      "text/html": [
       "<div>\n",
       "<style scoped>\n",
       "    .dataframe tbody tr th:only-of-type {\n",
       "        vertical-align: middle;\n",
       "    }\n",
       "\n",
       "    .dataframe tbody tr th {\n",
       "        vertical-align: top;\n",
       "    }\n",
       "\n",
       "    .dataframe thead th {\n",
       "        text-align: right;\n",
       "    }\n",
       "</style>\n",
       "<table border=\"1\" class=\"dataframe\">\n",
       "  <thead>\n",
       "    <tr style=\"text-align: right;\">\n",
       "      <th></th>\n",
       "      <th>TICKER</th>\n",
       "    </tr>\n",
       "  </thead>\n",
       "  <tbody>\n",
       "    <tr>\n",
       "      <th>1</th>\n",
       "      <td>VENKEYS</td>\n",
       "    </tr>\n",
       "    <tr>\n",
       "      <th>2</th>\n",
       "      <td>CHAMBLFERT</td>\n",
       "    </tr>\n",
       "    <tr>\n",
       "      <th>3</th>\n",
       "      <td>NFL</td>\n",
       "    </tr>\n",
       "    <tr>\n",
       "      <th>4</th>\n",
       "      <td>IDEA</td>\n",
       "    </tr>\n",
       "    <tr>\n",
       "      <th>5</th>\n",
       "      <td>UCOBANK</td>\n",
       "    </tr>\n",
       "    <tr>\n",
       "      <th>...</th>\n",
       "      <td>...</td>\n",
       "    </tr>\n",
       "    <tr>\n",
       "      <th>396</th>\n",
       "      <td>DCMSHRIRAM</td>\n",
       "    </tr>\n",
       "    <tr>\n",
       "      <th>397</th>\n",
       "      <td>SUZLON</td>\n",
       "    </tr>\n",
       "    <tr>\n",
       "      <th>398</th>\n",
       "      <td>INTELLECT</td>\n",
       "    </tr>\n",
       "    <tr>\n",
       "      <th>399</th>\n",
       "      <td>BLISSGVS</td>\n",
       "    </tr>\n",
       "    <tr>\n",
       "      <th>400</th>\n",
       "      <td>DCAL</td>\n",
       "    </tr>\n",
       "  </tbody>\n",
       "</table>\n",
       "<p>400 rows × 1 columns</p>\n",
       "</div>"
      ],
      "text/plain": [
       "         TICKER\n",
       "1       VENKEYS\n",
       "2    CHAMBLFERT\n",
       "3           NFL\n",
       "4          IDEA\n",
       "5       UCOBANK\n",
       "..          ...\n",
       "396  DCMSHRIRAM\n",
       "397      SUZLON\n",
       "398   INTELLECT\n",
       "399    BLISSGVS\n",
       "400        DCAL\n",
       "\n",
       "[400 rows x 1 columns]"
      ]
     },
     "execution_count": 32,
     "metadata": {},
     "output_type": "execute_result"
    }
   ],
   "source": [
    "test_df.drop([0])"
   ]
  },
  {
   "cell_type": "code",
   "execution_count": 33,
   "id": "d29b96b1-12c2-4573-bd5b-d9388a616fc7",
   "metadata": {},
   "outputs": [],
   "source": [
    "test_df[\"GROUP\"] = [group for i in range(len(test_df))]"
   ]
  },
  {
   "cell_type": "code",
   "execution_count": 34,
   "id": "fec06bce-40dd-453e-ad8f-1153b01eb7fa",
   "metadata": {},
   "outputs": [
    {
     "data": {
      "text/html": [
       "<div>\n",
       "<style scoped>\n",
       "    .dataframe tbody tr th:only-of-type {\n",
       "        vertical-align: middle;\n",
       "    }\n",
       "\n",
       "    .dataframe tbody tr th {\n",
       "        vertical-align: top;\n",
       "    }\n",
       "\n",
       "    .dataframe thead th {\n",
       "        text-align: right;\n",
       "    }\n",
       "</style>\n",
       "<table border=\"1\" class=\"dataframe\">\n",
       "  <thead>\n",
       "    <tr style=\"text-align: right;\">\n",
       "      <th></th>\n",
       "      <th>TICKER</th>\n",
       "      <th>GROUP</th>\n",
       "    </tr>\n",
       "  </thead>\n",
       "  <tbody>\n",
       "    <tr>\n",
       "      <th>0</th>\n",
       "      <td>NIFTY MIDSMALLCAP 400</td>\n",
       "      <td>NIFTY MIDSMALLCAP 400</td>\n",
       "    </tr>\n",
       "    <tr>\n",
       "      <th>1</th>\n",
       "      <td>VENKEYS</td>\n",
       "      <td>NIFTY MIDSMALLCAP 400</td>\n",
       "    </tr>\n",
       "    <tr>\n",
       "      <th>2</th>\n",
       "      <td>CHAMBLFERT</td>\n",
       "      <td>NIFTY MIDSMALLCAP 400</td>\n",
       "    </tr>\n",
       "    <tr>\n",
       "      <th>3</th>\n",
       "      <td>NFL</td>\n",
       "      <td>NIFTY MIDSMALLCAP 400</td>\n",
       "    </tr>\n",
       "    <tr>\n",
       "      <th>4</th>\n",
       "      <td>IDEA</td>\n",
       "      <td>NIFTY MIDSMALLCAP 400</td>\n",
       "    </tr>\n",
       "    <tr>\n",
       "      <th>...</th>\n",
       "      <td>...</td>\n",
       "      <td>...</td>\n",
       "    </tr>\n",
       "    <tr>\n",
       "      <th>396</th>\n",
       "      <td>DCMSHRIRAM</td>\n",
       "      <td>NIFTY MIDSMALLCAP 400</td>\n",
       "    </tr>\n",
       "    <tr>\n",
       "      <th>397</th>\n",
       "      <td>SUZLON</td>\n",
       "      <td>NIFTY MIDSMALLCAP 400</td>\n",
       "    </tr>\n",
       "    <tr>\n",
       "      <th>398</th>\n",
       "      <td>INTELLECT</td>\n",
       "      <td>NIFTY MIDSMALLCAP 400</td>\n",
       "    </tr>\n",
       "    <tr>\n",
       "      <th>399</th>\n",
       "      <td>BLISSGVS</td>\n",
       "      <td>NIFTY MIDSMALLCAP 400</td>\n",
       "    </tr>\n",
       "    <tr>\n",
       "      <th>400</th>\n",
       "      <td>DCAL</td>\n",
       "      <td>NIFTY MIDSMALLCAP 400</td>\n",
       "    </tr>\n",
       "  </tbody>\n",
       "</table>\n",
       "<p>401 rows × 2 columns</p>\n",
       "</div>"
      ],
      "text/plain": [
       "                    TICKER                  GROUP\n",
       "0    NIFTY MIDSMALLCAP 400  NIFTY MIDSMALLCAP 400\n",
       "1                  VENKEYS  NIFTY MIDSMALLCAP 400\n",
       "2               CHAMBLFERT  NIFTY MIDSMALLCAP 400\n",
       "3                      NFL  NIFTY MIDSMALLCAP 400\n",
       "4                     IDEA  NIFTY MIDSMALLCAP 400\n",
       "..                     ...                    ...\n",
       "396             DCMSHRIRAM  NIFTY MIDSMALLCAP 400\n",
       "397                 SUZLON  NIFTY MIDSMALLCAP 400\n",
       "398              INTELLECT  NIFTY MIDSMALLCAP 400\n",
       "399               BLISSGVS  NIFTY MIDSMALLCAP 400\n",
       "400                   DCAL  NIFTY MIDSMALLCAP 400\n",
       "\n",
       "[401 rows x 2 columns]"
      ]
     },
     "execution_count": 34,
     "metadata": {},
     "output_type": "execute_result"
    }
   ],
   "source": [
    "test_df"
   ]
  },
  {
   "cell_type": "code",
   "execution_count": null,
   "id": "d53ed1d6-1d49-442a-9af1-54b0372130b0",
   "metadata": {},
   "outputs": [],
   "source": []
  }
 ],
 "metadata": {
  "kernelspec": {
   "display_name": "Python 3",
   "language": "python",
   "name": "python3"
  },
  "language_info": {
   "codemirror_mode": {
    "name": "ipython",
    "version": 3
   },
   "file_extension": ".py",
   "mimetype": "text/x-python",
   "name": "python",
   "nbconvert_exporter": "python",
   "pygments_lexer": "ipython3",
   "version": "3.9.4"
  }
 },
 "nbformat": 4,
 "nbformat_minor": 5
}
